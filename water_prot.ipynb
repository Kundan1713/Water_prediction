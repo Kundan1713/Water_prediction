{
 "cells": [
  {
   "cell_type": "code",
   "execution_count": null,
   "id": "92aaf168-72c8-4536-a7d5-4141f295a47b",
   "metadata": {},
   "outputs": [],
   "source": [
    "import streamlit as st\n",
    "import pickle as pkl"
   ]
  },
  {
   "cell_type": "code",
   "execution_count": null,
   "id": "946dc768-7014-4242-930f-168087804c17",
   "metadata": {},
   "outputs": [],
   "source": [
    "!streamlit run \"C:/Users/Kundan/water.py\""
   ]
  },
  {
   "cell_type": "code",
   "execution_count": null,
   "id": "1681c28c-7f6e-4368-8a85-16cc8da068c2",
   "metadata": {},
   "outputs": [],
   "source": []
  }
 ],
 "metadata": {
  "kernelspec": {
   "display_name": "Python 3 (ipykernel)",
   "language": "python",
   "name": "python3"
  },
  "language_info": {
   "codemirror_mode": {
    "name": "ipython",
    "version": 3
   },
   "file_extension": ".py",
   "mimetype": "text/x-python",
   "name": "python",
   "nbconvert_exporter": "python",
   "pygments_lexer": "ipython3",
   "version": "3.9.12"
  }
 },
 "nbformat": 4,
 "nbformat_minor": 5
}
